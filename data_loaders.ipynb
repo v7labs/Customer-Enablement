{
 "cells": [
  {
   "attachments": {},
   "cell_type": "markdown",
   "metadata": {},
   "source": [
    "# PyTorch dataloaders with darwin-py"
   ]
  },
  {
   "cell_type": "code",
   "execution_count": null,
   "metadata": {},
   "outputs": [],
   "source": [
    "import torch\n",
    "import torchvision\n",
    "from torchvision.models.detection.faster_rcnn import FastRCNNPredictor\n",
    "from torchvision.models.detection.mask_rcnn import MaskRCNNPredictor\n",
    "\n",
    "from darwin.torch import get_dataset\n",
    "import darwin.torch.transforms as T"
   ]
  },
  {
   "attachments": {},
   "cell_type": "markdown",
   "metadata": {},
   "source": [
    "### 🐥 Get dataset from Darwin - [Bird Species](https://www.v7labs.com/open-datasets/bird-species)"
   ]
  },
  {
   "cell_type": "code",
   "execution_count": null,
   "metadata": {},
   "outputs": [],
   "source": [
    "!darwin dataset pull v7-open-datasets/bird-species:birds"
   ]
  },
  {
   "cell_type": "code",
   "execution_count": null,
   "metadata": {},
   "outputs": [],
   "source": [
    "dataset_id = \"v7-open-datasets/bird-species\"\n",
    "dataset = get_dataset(dataset_id, dataset_type=\"instance-segmentation\")\n",
    "print(dataset) #--- Dataset statistics\n",
    "print(dataset.classes) #--- Classes\n",
    "dataset.get_image(0) #--- Get image"
   ]
  },
  {
   "attachments": {},
   "cell_type": "markdown",
   "metadata": {},
   "source": [
    "### 🪓 Create train-val-test splits - random and stratified!"
   ]
  },
  {
   "cell_type": "code",
   "execution_count": null,
   "metadata": {},
   "outputs": [],
   "source": [
    "!darwin dataset split v7-open-datasets/bird-species --val-percentage 0.10 --test-percentage 0.20"
   ]
  },
  {
   "attachments": {},
   "cell_type": "markdown",
   "metadata": {},
   "source": [
    "### 🚀 Get dataset partitions for training and validation"
   ]
  },
  {
   "cell_type": "code",
   "execution_count": null,
   "metadata": {},
   "outputs": [],
   "source": [
    "dataset_id = \"v7-open-datasets/bird-species\" #--- For completeness, we again specify the dataset_id\n",
    "\n",
    "trfs_train = T.Compose([T.RandomHorizontalFlip(), T.ToTensor()]) #--- Compose multiple transforms\n",
    "dataset_train = get_dataset(dataset_id, dataset_type=\"instance-segmentation\",\n",
    "    partition=\"train\", split_type=\"stratified\", transform=trfs_train)\n",
    "\n",
    "trfs_val = T.ToTensor()\n",
    "dataset_val = get_dataset(dataset_id, dataset_type=\"instance-segmentation\",\n",
    "    partition=\"val\", split_type=\"stratified\", transform=trfs_val)\n",
    "\n",
    "print(dataset)\n",
    "print(dataset_train)\n",
    "print(dataset_val)"
   ]
  },
  {
   "attachments": {},
   "cell_type": "markdown",
   "metadata": {},
   "source": [
    "### 🔥 Let's see the datasets in action!"
   ]
  },
  {
   "cell_type": "code",
   "execution_count": null,
   "metadata": {},
   "outputs": [],
   "source": [
    "# Get the dataloader for the training set\n",
    "\n",
    "def collate_fn(batch):\n",
    "    return tuple(zip(*batch))\n",
    "\n",
    "data_loader = torch.utils.data.DataLoader(dataset_train, batch_size=2, shuffle=True, num_workers=0, collate_fn=collate_fn)"
   ]
  },
  {
   "cell_type": "code",
   "execution_count": null,
   "metadata": {},
   "outputs": [],
   "source": [
    "# Instantiate a Mask-RCNN model using Torchvision's API!\n",
    "\n",
    "def get_instance_segmentation_model(num_classes):\n",
    "    # load an instance segmentation model pre-trained on COCO\n",
    "    model = torchvision.models.detection.maskrcnn_resnet50_fpn(pretrained=True)\n",
    "\n",
    "    # add a new bounding box predictor\n",
    "    in_features = model.roi_heads.box_predictor.cls_score.in_features\n",
    "    model.roi_heads.box_predictor = FastRCNNPredictor(in_features, num_classes)\n",
    "\n",
    "    # add a new mask predictor\n",
    "    in_features_mask = model.roi_heads.mask_predictor.conv5_mask.in_channels\n",
    "    hidden_layer = 256\n",
    "    model.roi_heads.mask_predictor = MaskRCNNPredictor(in_features_mask,\n",
    "                                                       hidden_layer,\n",
    "                                                       num_classes)\n",
    "    return model"
   ]
  },
  {
   "cell_type": "code",
   "execution_count": null,
   "metadata": {},
   "outputs": [],
   "source": [
    "# Basic optimization setup!\n",
    "\n",
    "device = torch.device('cuda') if torch.cuda.is_available() else torch.device('cpu')\n",
    "\n",
    "# get the model using our helper function\n",
    "num_classes = dataset.num_classes + 1 #--- number of classes in the dataset + background\n",
    "model = get_instance_segmentation_model(num_classes)\n",
    "model.to(device)\n",
    "\n",
    "# construct an optimizer\n",
    "params = [p for p in model.parameters() if p.requires_grad]\n",
    "optimizer = torch.optim.Adam(params, lr=0.0001, weight_decay=0.0005)\n",
    "# and a learning rate scheduler\n",
    "lr_scheduler = torch.optim.lr_scheduler.StepLR(optimizer, step_size=3, gamma=0.1)"
   ]
  },
  {
   "cell_type": "code",
   "execution_count": null,
   "metadata": {},
   "outputs": [],
   "source": [
    "# let's train it for 10 epochs\n",
    "\n",
    "for epoch in range(10):\n",
    "    # train for one epoch, printing every 10 iterations\n",
    "    print(f\"Starting epoch {epoch}...\")\n",
    "    acumm_loss = 0\n",
    "    for i, (images, targets) in enumerate(data_loader):\n",
    "        images = [image.to(device) for image in images]\n",
    "        targets = [{k: v.to(device) for k, v in t.items() if isinstance(v, torch.Tensor)} for t in targets]\n",
    "\n",
    "        loss_dict = model(images, targets)\n",
    "        losses = sum(loss_dict.values())\n",
    "\n",
    "        optimizer.zero_grad() #--- Zero the gradients\n",
    "        losses.backward() #--- Backpropagate\n",
    "        optimizer.step() #--- Update the weights\n",
    "        acumm_loss += losses.cpu().item()\n",
    "        if i % 10 == 0:\n",
    "            print(f\"({i}/{len(data_loader)}) Loss: {acumm_loss/10}\")\n",
    "            acumm_loss = 0\n",
    "\n",
    "    lr_scheduler.step()"
   ]
  },
  {
   "cell_type": "code",
   "execution_count": null,
   "metadata": {},
   "outputs": [],
   "source": []
  }
 ],
 "metadata": {
  "kernelspec": {
   "display_name": "V7",
   "language": "python",
   "name": "python3"
  },
  "language_info": {
   "codemirror_mode": {
    "name": "ipython",
    "version": 3
   },
   "file_extension": ".py",
   "mimetype": "text/x-python",
   "name": "python",
   "nbconvert_exporter": "python",
   "pygments_lexer": "ipython3",
   "version": "3.8.16"
  },
  "orig_nbformat": 4
 },
 "nbformat": 4,
 "nbformat_minor": 2
}
