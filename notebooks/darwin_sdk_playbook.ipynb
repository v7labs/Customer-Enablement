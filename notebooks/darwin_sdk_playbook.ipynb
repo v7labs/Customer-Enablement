{
 "cells": [
  {
   "cell_type": "markdown",
   "id": "4c40c974",
   "metadata": {},
   "source": [
    "\n",
    "# Using The darwin-py SDK"
   ]
  },
  {
   "cell_type": "markdown",
   "id": "00095291",
   "metadata": {
    "heading_collapsed": true
   },
   "source": [
    "## Modules"
   ]
  },
  {
   "cell_type": "code",
   "execution_count": null,
   "id": "7d06f542",
   "metadata": {
    "hidden": true
   },
   "outputs": [],
   "source": [
    "# Required darwin imports for SDK use in the notebook\n",
    "import darwin\n",
    "import darwin.importer as importer\n",
    "from darwin.importer import get_importer\n",
    "from darwin.client import Client\n",
    "from darwin.item import DatasetItem\n",
    "from darwin.datatypes import AnnotationClass\n",
    "from darwin.dataset import RemoteDataset\n",
    "from darwin.exceptions import NotFound\n",
    "\n",
    "\n",
    "# Required python imports for notebook usage\n",
    "import re\n",
    "import glob\n",
    "import os\n",
    "import json\n",
    "from IPython.display import HTML\n",
    "from IPython.display import IFrame\n",
    "import time\n",
    "from pathlib import Path"
   ]
  },
  {
   "cell_type": "markdown",
   "id": "189b0d37",
   "metadata": {
    "heading_collapsed": true
   },
   "source": [
    "## Inititalise Darwin"
   ]
  },
  {
   "cell_type": "markdown",
   "id": "d5db9b3b",
   "metadata": {
    "heading_collapsed": true,
    "hidden": true
   },
   "source": [
    "### Generate API Key"
   ]
  },
  {
   "cell_type": "markdown",
   "id": "1b448126",
   "metadata": {
    "hidden": true
   },
   "source": [
    "<div class=\"alert alert-block alert-info\"> <b>Tip:</b> You can generate your API key <a style=\"font_size: 120%; text-decoration: underline; cursor: pointer;\" href=\"https://darwin.v7labs.com/?settings=api-keys\"> here </a> \n",
    "    \n",
    ">  Run the cell below for a video guide on how to generate an API key </div>"
   ]
  },
  {
   "cell_type": "code",
   "execution_count": null,
   "id": "93306965",
   "metadata": {
    "hidden": true
   },
   "outputs": [],
   "source": [
    "IFrame(\"https://www.loom.com/embed/3d414eb9c0444b0f9309d49b8e393414\", width=950, height=400)"
   ]
  },
  {
   "cell_type": "markdown",
   "id": "73840ec5",
   "metadata": {
    "hidden": true
   },
   "source": [
    "<div class=\"alert alert-block alert-warning\">\n",
    "<b>🚧 Permissions:</b> The API key permissions selected when creating the key will determine which commands in the SDK are allowed. If the key has insufficient permissions for a certain action an error will be shown: <i style=\"color: #E75C58\">Insufficient permissions </i> or <i style=\"color: #E75C58\"> Invalid API key </i>.\n",
    "</div>"
   ]
  },
  {
   "cell_type": "markdown",
   "id": "0371df9f",
   "metadata": {
    "heading_collapsed": true,
    "hidden": true
   },
   "source": [
    "### Authenticate"
   ]
  },
  {
   "cell_type": "code",
   "execution_count": null,
   "id": "2f966a24",
   "metadata": {
    "hidden": true
   },
   "outputs": [],
   "source": [
    "API_KEY = \"<YOUR-API-KEY>\"\n",
    "\n",
    "client = Client.from_api_key(API_KEY)"
   ]
  },
  {
   "cell_type": "markdown",
   "id": "502417a1",
   "metadata": {
    "heading_collapsed": true,
    "hidden": true
   },
   "source": [
    "### Authenticate From A Config "
   ]
  },
  {
   "cell_type": "markdown",
   "id": "3bf27bfa",
   "metadata": {
    "hidden": true
   },
   "source": [
    "<div class=\"alert alert-block alert-info\"> <b>Tip:</b> You have 2 options here, either you can use your local conifg.yaml found in your darwin configuration <i style=\"color: #abaaa6\"> ~/.darwin/config.yaml </i>. Alternatively, create a yaml config file and pass the file path through to the client object. </div>"
   ]
  },
  {
   "cell_type": "markdown",
   "id": "ec77500e",
   "metadata": {
    "heading_collapsed": true,
    "hidden": true
   },
   "source": [
    "#### From local darwin config"
   ]
  },
  {
   "cell_type": "code",
   "execution_count": null,
   "id": "d02bcd96",
   "metadata": {
    "hidden": true
   },
   "outputs": [],
   "source": [
    "client = Client.local()"
   ]
  },
  {
   "cell_type": "markdown",
   "id": "c1cf1da8",
   "metadata": {
    "heading_collapsed": true,
    "hidden": true
   },
   "source": [
    "#### From sepcific config.yaml file"
   ]
  },
  {
   "cell_type": "code",
   "execution_count": null,
   "id": "6480410f",
   "metadata": {
    "hidden": true
   },
   "outputs": [],
   "source": [
    "client = Client.from_config(\"~./your_yaml_config_path.yaml\")"
   ]
  },
  {
   "cell_type": "markdown",
   "id": "6faef188",
   "metadata": {},
   "source": [
    "## Interact With Datasets"
   ]
  },
  {
   "cell_type": "markdown",
   "id": "786dbe24",
   "metadata": {
    "heading_collapsed": true
   },
   "source": [
    "### Create / Load Datasets"
   ]
  },
  {
   "cell_type": "code",
   "execution_count": null,
   "id": "90364e36",
   "metadata": {
    "hidden": true
   },
   "outputs": [],
   "source": [
    "dataset_name = \"<YOUR-DATASET-NAME>\"\n",
    "dataset = client.create_dataset(dataset_name)"
   ]
  },
  {
   "cell_type": "markdown",
   "id": "c89e0cea",
   "metadata": {
    "hidden": true
   },
   "source": [
    "<div class=\"alert alert-block alert-warning\">\n",
    "<b>🚧 Error Handling:</b> To avoid a <i style=\"color: #E75C58\"> Name Taken </i> error <u>(or simply load an already created dataset - see except)</u>, users can add a conditional block like below.\n",
    "</div>"
   ]
  },
  {
   "cell_type": "code",
   "execution_count": null,
   "id": "48ff101b",
   "metadata": {
    "hidden": true
   },
   "outputs": [],
   "source": [
    "dataset_name = \"<DATASET-NAME>\"\n",
    "slug_dataset_name = dataset_name.lower().strip().replace(' ', '-')\n",
    "\n",
    "try:\n",
    "    dataset = client.create_dataset(dataset_name)\n",
    "    print('New dataset created.')\n",
    "except darwin.exceptions.NameTaken:\n",
    "    dataset = client.get_remote_dataset(slug_dataset_name)\n",
    "    print('Dataset name already created, connected to existing.')"
   ]
  },
  {
   "cell_type": "markdown",
   "id": "cadd7276",
   "metadata": {},
   "source": [
    "### View Datasets"
   ]
  },
  {
   "cell_type": "markdown",
   "id": "2f560ad5",
   "metadata": {
    "heading_collapsed": true
   },
   "source": [
    "#### All local folders"
   ]
  },
  {
   "cell_type": "code",
   "execution_count": null,
   "id": "7c259a78",
   "metadata": {
    "hidden": true
   },
   "outputs": [],
   "source": [
    "[{'name': i.name, 'id': i.dataset_id, 'slug_name': i.slug, 'no_files': i.item_count, 'progress': i.progress} for i \n",
    " in client.list_local_datasets()]"
   ]
  },
  {
   "cell_type": "markdown",
   "id": "262a7957",
   "metadata": {
    "heading_collapsed": true
   },
   "source": [
    "#### All remote datasets on darwin"
   ]
  },
  {
   "cell_type": "code",
   "execution_count": null,
   "id": "27f3c850",
   "metadata": {
    "hidden": true
   },
   "outputs": [],
   "source": [
    "[{'name': i.name, 'id': i.dataset_id, 'slug_name': i.slug, 'no_files': i.item_count, 'progress': i.progress} for i \n",
    " in client.list_remote_datasets()]"
   ]
  },
  {
   "cell_type": "markdown",
   "id": "cad612c5",
   "metadata": {
    "heading_collapsed": true
   },
   "source": [
    "### Delete Datasets"
   ]
  },
  {
   "cell_type": "markdown",
   "id": "3f23419d",
   "metadata": {
    "hidden": true
   },
   "source": [
    "<div class=\"alert alert-block alert-danger\"><b>WARNING:</b> This command will delete any created dataset, so be careful when using.</div>"
   ]
  },
  {
   "cell_type": "code",
   "execution_count": null,
   "id": "31deb5c7",
   "metadata": {
    "hidden": true
   },
   "outputs": [],
   "source": [
    "client.archive_remote_dataset('dataset_id', 'slug_team_name')"
   ]
  },
  {
   "cell_type": "markdown",
   "id": "e6148944",
   "metadata": {
    "hidden": true
   },
   "source": [
    "<div class=\"alert alert-block alert-info\"> <b>Tip:</b> Alternatively, you can fetch your dataset id by navigating to your dataset in darwin, then just copy the id from your url - e.g.<br> &nbsp &nbsp &nbsp &nbsp <i style=\"color: #abaaa6\"> https://darwin.v7labs.com/datasets/<i style=\"color: #fc8803\">123456</i>/dataset-management </i>\n",
    "</div>"
   ]
  },
  {
   "cell_type": "markdown",
   "id": "5a64c119",
   "metadata": {},
   "source": [
    "### Upload Files To Dataset"
   ]
  },
  {
   "cell_type": "code",
   "execution_count": null,
   "id": "ff800a7e",
   "metadata": {},
   "outputs": [],
   "source": [
    "list_of_files = ['./your_file_path/file.png']\n",
    "\n",
    "dataset.push(list_of_files)"
   ]
  },
  {
   "cell_type": "markdown",
   "id": "17c6337b",
   "metadata": {
    "heading_collapsed": true
   },
   "source": [
    "#### Upload folder of files "
   ]
  },
  {
   "cell_type": "code",
   "execution_count": null,
   "id": "c8999eb2",
   "metadata": {
    "hidden": true
   },
   "outputs": [],
   "source": [
    "compat_ftypes = (\".avi\", \".bmp\", \".dcm\", \".gz\", \".hevc\", \".jpeg\", \".jpg\", \".mkv\", \".mov\", \".mp4\", \".ndpi\", \n",
    "                 \".nii.gz\", \".nii\", \".pdf\", \".png\", \".rvg\", \".svs\", \".tif\", \".tiff\", \".webp\")\n",
    "\n",
    "your_folder_path = \"<your-file-path>\"\n",
    "\n",
    "\n",
    "upload_files = []\n",
    "for root, dirs, files in os.walk(your_folder_path):\n",
    "    for ix, file in enumerate(files):\n",
    "        if file.lower().endswith(compat_ftypes):\n",
    "            if file.split(\".\")[0] != '':\n",
    "                print(f'{ix} - {file.split(\".\")[0]}')\n",
    "                upload_files.append(os.path.join(root, file))\n",
    "                               \n",
    "dataset.push(upload_files)"
   ]
  },
  {
   "cell_type": "markdown",
   "id": "82b78509",
   "metadata": {},
   "source": [
    "### Download Dataset"
   ]
  },
  {
   "cell_type": "markdown",
   "id": "3fc0be85",
   "metadata": {
    "heading_collapsed": true
   },
   "source": [
    "#### Create an export"
   ]
  },
  {
   "cell_type": "code",
   "execution_count": null,
   "id": "d1bcf72c",
   "metadata": {
    "hidden": true
   },
   "outputs": [],
   "source": [
    "release_name = \"Your Release Name\".lower().strip().replace(' ', '-') #this should be in slug format\n",
    "dataset.export(release_name)"
   ]
  },
  {
   "cell_type": "markdown",
   "id": "ffae04a3",
   "metadata": {
    "heading_collapsed": true
   },
   "source": [
    "#### Download export"
   ]
  },
  {
   "cell_type": "code",
   "execution_count": null,
   "id": "e3dfca72",
   "metadata": {
    "hidden": true
   },
   "outputs": [],
   "source": [
    "while True:\n",
    "    print(\"Waiting for Release to be created...\")\n",
    "    time.sleep(10)\n",
    "    try:\n",
    "        print(\"Trying to get release\")\n",
    "        release = dataset.get_release(release_name)\n",
    "\n",
    "        print(\"Got Release, downloading it!\")\n",
    "        release.download_zip(Path(f\"./{release_name}.zip\"))\n",
    "        break\n",
    "    except NotFound:\n",
    "        print(\"Release not ready yet!\")\n",
    "        continue"
   ]
  },
  {
   "cell_type": "markdown",
   "id": "e4b4b93c",
   "metadata": {},
   "source": [
    "## Annotations"
   ]
  },
  {
   "cell_type": "markdown",
   "id": "c8df1ee1",
   "metadata": {
    "heading_collapsed": true
   },
   "source": [
    "### View Existing Classes"
   ]
  },
  {
   "cell_type": "code",
   "execution_count": null,
   "id": "b6a5e8cd",
   "metadata": {
    "hidden": true,
    "scrolled": true
   },
   "outputs": [],
   "source": [
    "class_list = dataset.fetch_remote_classes()\n",
    "class_list"
   ]
  },
  {
   "cell_type": "code",
   "execution_count": null,
   "id": "58c127b7",
   "metadata": {
    "hidden": true
   },
   "outputs": [],
   "source": [
    "for _class in class_list:\n",
    "    new_dataset..add_annotation_class(AnnotationClass(_class['name'], _class['annotation_types'][0]))"
   ]
  },
  {
   "cell_type": "markdown",
   "id": "08db142a",
   "metadata": {
    "heading_collapsed": true
   },
   "source": [
    "### Create New Annotation Class"
   ]
  },
  {
   "cell_type": "markdown",
   "id": "c0a34137",
   "metadata": {
    "hidden": true
   },
   "source": [
    "<u><b> Class Type Options: </b></u>\n",
    "- polygon <i>(id = 3)</i>\n",
    "- tag <i>(id = 1)</i>\n",
    "- line <i>(id = 11)</i>\n",
    "- ellipse <i>(id = 60)</i>\n",
    "- bounding_box <i>(id = 2)</i>\n",
    "- skeleton <i>(id = 12)</i>\n",
    "- keypoint <i>(id = 7)</i>\n",
    "- cuboid <i>(id = 8)</i>"
   ]
  },
  {
   "cell_type": "code",
   "execution_count": null,
   "id": "f68741fa",
   "metadata": {
    "hidden": true
   },
   "outputs": [],
   "source": [
    "# This can be done through the dataset object\n",
    "\n",
    "dataset.create_annotation_class('class_name', 'class_type')"
   ]
  },
  {
   "cell_type": "code",
   "execution_count": null,
   "id": "e1c1bbd5",
   "metadata": {
    "hidden": true
   },
   "outputs": [],
   "source": [
    "# Alternatively, it can be done using the client object (this option gives functionality to create \n",
    "# multiple classes at once)\n",
    "\n",
    "client.create_annotation_class(dataset_id, [annotation_class_id], 'name of class')\n",
    "\n",
    "## e.g. to create a polygon, do:\n",
    "## client.create_annotation_class(123456, [3], 'polygon_class')"
   ]
  },
  {
   "cell_type": "markdown",
   "id": "983465ae",
   "metadata": {
    "heading_collapsed": true
   },
   "source": [
    "### Add Existing Class To Dataset"
   ]
  },
  {
   "cell_type": "markdown",
   "id": "c6707047",
   "metadata": {
    "hidden": true
   },
   "source": [
    "<div class=\"alert alert-block alert-success\">\n",
    "<b></b> If the class already exists for this dataset, no duplicate will be added and no error will be raised\n",
    "</div>"
   ]
  },
  {
   "cell_type": "code",
   "execution_count": null,
   "id": "0b33306e",
   "metadata": {
    "hidden": true
   },
   "outputs": [],
   "source": [
    "existing_class = AnnotationClass('<class-name>', '<class-type>')\n",
    "\n",
    "dataset.add_annotation_class(existing_class)"
   ]
  },
  {
   "cell_type": "markdown",
   "id": "b67aaa44",
   "metadata": {},
   "source": [
    "## Comments"
   ]
  },
  {
   "cell_type": "markdown",
   "id": "857ea6a5",
   "metadata": {},
   "source": [
    "<div class=\"alert alert-block alert-info\"> <b>Tip:</b> The API is more commonly used and an easier option for comment posting, but we have outlined how to do this from the SDK below also. </div>"
   ]
  },
  {
   "cell_type": "markdown",
   "id": "de5032f4",
   "metadata": {},
   "source": [
    "### Post a Comment"
   ]
  },
  {
   "cell_type": "markdown",
   "id": "28b28998",
   "metadata": {
    "heading_collapsed": true
   },
   "source": [
    "#### Create a slot"
   ]
  },
  {
   "cell_type": "markdown",
   "id": "c7f6b378",
   "metadata": {
    "hidden": true
   },
   "source": [
    "In your json export from the platform, there will be a <b>'slots'</b> key for each file in exported from your dataset.\n",
    "This is required to create the dataset item, which is the primary argument required for posting a comment to a specific file. \n",
    "\n",
    "Either copy & paste from your export <i style='color: #abaaa6'>(see example below)</i>:"
   ]
  },
  {
   "cell_type": "code",
   "execution_count": null,
   "id": "9186fad1",
   "metadata": {
    "hidden": true
   },
   "outputs": [],
   "source": [
    "slots = [\n",
    "      {\n",
    "        \"type\": \"image\",\n",
    "        \"slot_name\": \"0\",\n",
    "        \"width\": 100,\n",
    "        \"height\": 200,\n",
    "        \"thumbnail_url\": \"https://darwin.v7labs.com/api/v2/teams/slug-team-name/files/fa416a35-7964-4c34-8c9e-47075f8f7292/thumbnail\",\n",
    "        \"source_files\": [\n",
    "          {\n",
    "            \"file_name\": \"file_name.jpeg\",\n",
    "            \"url\": \"https://darwin.v7labs.com/api/v2/teams/slug-team-name/uploads/26830af8-3c7d-4f07-ad31-c5e6d05a30c7\"\n",
    "          }\n",
    "        ]\n",
    "      }\n",
    "    ]"
   ]
  },
  {
   "cell_type": "markdown",
   "id": "81e9547b",
   "metadata": {
    "hidden": true
   },
   "source": [
    "<u>Or</u>, you can programatically get the <b>slot</b> from your export using the below <i>function</i>: \n",
    "<a id='export-function'></a>"
   ]
  },
  {
   "cell_type": "code",
   "execution_count": null,
   "id": "0dc486ee",
   "metadata": {
    "hidden": true
   },
   "outputs": [],
   "source": [
    "# The below function gets you most recent export from your export location:\n",
    "## Alternatively you can just pass the file path in question\n",
    "\n",
    "def get_darwin_json_export(dataset_item_name, export_location_path, exact_export_file_path=None):\n",
    "    if exact_export_file_path:\n",
    "        f = open(exact_export_file_path)\n",
    "        darwin_export = json.load(f)\n",
    "        f.close()\n",
    "    else:\n",
    "        for file in glob.glob(export_location_path + r'/*json'):\n",
    "            f = open(file)\n",
    "            temp_export = json.load(f)\n",
    "            if temp_export['item']['name'] == dataset_item_name:\n",
    "                darwin_export = temp_export\n",
    "            else:\n",
    "                darwin_export = 'NO json export exists for this file, check your dataset_item_name'\n",
    "            f.close()\n",
    "    return darwin_export"
   ]
  },
  {
   "cell_type": "code",
   "execution_count": null,
   "id": "8bf9e33b",
   "metadata": {
    "hidden": true
   },
   "outputs": [],
   "source": [
    "example_export = get_darwin_json_export(r'file_name',r'folder_path')\n",
    "slot = example_export['item']['slots']\n",
    "slot"
   ]
  },
  {
   "cell_type": "markdown",
   "id": "4e2194d6",
   "metadata": {
    "heading_collapsed": true
   },
   "source": [
    "#### Create a dataset item"
   ]
  },
  {
   "cell_type": "code",
   "execution_count": null,
   "id": "ebc15639",
   "metadata": {
    "hidden": true
   },
   "outputs": [],
   "source": [
    "datasetId = [i.dataset_id for i in client.list_remote_datasets() \n",
    "             if i.slug == example_export['item']['source_info']['dataset']['slug']][0]\n",
    "datasetId"
   ]
  },
  {
   "cell_type": "code",
   "execution_count": null,
   "id": "d1abc5fd",
   "metadata": {
    "hidden": true
   },
   "outputs": [],
   "source": [
    "dataset_item = DatasetItem(id=example_export['item']['source_info']['item_id'], \n",
    "                           filename=example_export['item']['name'], \n",
    "                           status=None, archived=False, filesize=None, dataset_id=datasetId, \n",
    "                           dataset_slug=example_export['item']['source_info']['dataset']['slug'], \n",
    "                           seq=0, path=example_export['item']['name'], slots=example_export['item']['slots'], \n",
    "                           current_workflow_id=None, \n",
    "                           current_workflow=f\"{example_export['item']['source_info']['team']['slug']}/\\\n",
    "                           {example_export['item']['source_info']['dataset']['slug']}\"\n",
    "                           )"
   ]
  },
  {
   "cell_type": "markdown",
   "id": "6c7b3e01",
   "metadata": {
    "heading_collapsed": true
   },
   "source": [
    "#### Post the comment"
   ]
  },
  {
   "cell_type": "code",
   "execution_count": null,
   "id": "9ad2acc3",
   "metadata": {
    "hidden": true
   },
   "outputs": [],
   "source": [
    "dataset.post_comment(\n",
    "                        item = dataset_item, #this is your defined DatasetItem (see above)\n",
    "                        text = 'test comment', #this is the text string you want to say in your comment\n",
    "                        x = 15, #the x-coordinate where your comment will appear\n",
    "                        y = 15, #the y-coordinate where your comment will appear\n",
    "                        w = 10, #the width of your comment box\n",
    "                        h = 10  #the height of your comment box\n",
    "                    )"
   ]
  },
  {
   "cell_type": "code",
   "execution_count": null,
   "id": "c55bca09",
   "metadata": {
    "hidden": true
   },
   "outputs": [],
   "source": [
    "# View export to check where relevant annotation box is located and then set the x & y parameters accordingly\n",
    "\n",
    "example_export['annotations']"
   ]
  }
 ],
 "metadata": {
  "kernelspec": {
   "display_name": "Python 3 (ipykernel)",
   "language": "python",
   "name": "python3"
  },
  "language_info": {
   "codemirror_mode": {
    "name": "ipython",
    "version": 3
   },
   "file_extension": ".py",
   "mimetype": "text/x-python",
   "name": "python",
   "nbconvert_exporter": "python",
   "pygments_lexer": "ipython3",
   "version": "3.9.7"
  },
  "toc": {
   "base_numbering": 1,
   "nav_menu": {},
   "number_sections": true,
   "sideBar": true,
   "skip_h1_title": true,
   "title_cell": "Table of Contents",
   "title_sidebar": "Contents",
   "toc_cell": false,
   "toc_position": {
    "height": "calc(100% - 180px)",
    "left": "10px",
    "top": "150px",
    "width": "275px"
   },
   "toc_section_display": true,
   "toc_window_display": true
  },
  "varInspector": {
   "cols": {
    "lenName": 16,
    "lenType": 16,
    "lenVar": 40
   },
   "kernels_config": {
    "python": {
     "delete_cmd_postfix": "",
     "delete_cmd_prefix": "del ",
     "library": "var_list.py",
     "varRefreshCmd": "print(var_dic_list())"
    },
    "r": {
     "delete_cmd_postfix": ") ",
     "delete_cmd_prefix": "rm(",
     "library": "var_list.r",
     "varRefreshCmd": "cat(var_dic_list()) "
    }
   },
   "types_to_exclude": [
    "module",
    "function",
    "builtin_function_or_method",
    "instance",
    "_Feature"
   ],
   "window_display": false
  }
 },
 "nbformat": 4,
 "nbformat_minor": 5
}
