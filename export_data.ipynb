{
 "cells": [
  {
   "attachments": {},
   "cell_type": "markdown",
   "metadata": {},
   "source": [
    "## 🚀 Create and pull export data using SDK"
   ]
  },
  {
   "cell_type": "code",
   "execution_count": null,
   "metadata": {},
   "outputs": [],
   "source": [
    "from darwin.client import Client\n",
    "from darwin.dataset import RemoteDataset\n",
    "from time import sleep\n",
    "from darwin.dataset.release import Release # Releases created this way can only contain images with 'completed' status\n",
    "from darwin.exceptions import NotFound\n",
    "from pathlib import Path"
   ]
  },
  {
   "cell_type": "code",
   "execution_count": null,
   "metadata": {},
   "outputs": [],
   "source": [
    "client = Client.local()"
   ]
  },
  {
   "cell_type": "code",
   "execution_count": null,
   "metadata": {},
   "outputs": [],
   "source": [
    "# get dataset manager\n",
    "dataset: RemoteDataset = client.get_remote_dataset(\"YOUR_TEAM/DATASET_NAME\")\n",
    "\n",
    "# create a new release\n",
    "release_name: str = \"RELEASE_NAME\"\n",
    "dataset.export(release_name)"
   ]
  },
  {
   "cell_type": "code",
   "execution_count": null,
   "metadata": {},
   "outputs": [],
   "source": [
    "while True:\n",
    "    print(\"Waiting for Release to be created...\")\n",
    "    sleep(10)\n",
    "    try:\n",
    "        print(\"Trying to get release\")\n",
    "        release: Release = dataset.get_release(release_name)  # default is \"latest\"\n",
    "\n",
    "        print(\"Got Release, downloading it!\")\n",
    "        release.download_zip(Path(f\"{release_name}.zip\"))\n",
    "        break\n",
    "    except NotFound:\n",
    "        print(\"Release not ready yet!\")\n",
    "        continue"
   ]
  },
  {
   "attachments": {},
   "cell_type": "markdown",
   "metadata": {},
   "source": [
    "## 🚀 Create and pull export using REST API"
   ]
  },
  {
   "cell_type": "code",
   "execution_count": null,
   "metadata": {},
   "outputs": [],
   "source": [
    "import requests\n",
    "from auth import API_KEY"
   ]
  },
  {
   "cell_type": "code",
   "execution_count": null,
   "metadata": {},
   "outputs": [],
   "source": [
    "team_slug = \"YOUR_TEAM_SLUG\"\n",
    "dataset_slug = \"YOUR_DATASET_SLUG\"\n",
    "\n",
    "url = f\"https://darwin.v7labs.com/api/v2/teams/{team_slug}/datasets/{dataset_slug}/exports\""
   ]
  },
  {
   "cell_type": "code",
   "execution_count": null,
   "metadata": {},
   "outputs": [],
   "source": [
    "release_name: str = \"YOUR_RELEASE_NAME\"\n",
    "\n",
    "payload = {\n",
    "    \"filters\": {\"FILTER_TYPE\": \"FILTER_VALUE\"},\n",
    "    \"format\": \"json\",\n",
    "    \"include_authorship\": False,\n",
    "    \"include_export_token\": False,\n",
    "    \"name\": f\"{release_name}\",\n",
    "}\n",
    "headers = {\n",
    "    \"accept\": \"application/json\",\n",
    "    \"content-type\": \"application/json\",\n",
    "    \"Authorization\": f\"ApiKey {API_KEY}\",\n",
    "}\n",
    "\n",
    "response = requests.post(url, json=payload, headers=headers)\n",
    "\n",
    "response.text"
   ]
  },
  {
   "cell_type": "code",
   "execution_count": null,
   "metadata": {},
   "outputs": [],
   "source": [
    "response = requests.get(url, headers=headers)\n",
    "\n",
    "response.text"
   ]
  }
 ],
 "metadata": {
  "kernelspec": {
   "display_name": "V7",
   "language": "python",
   "name": "python3"
  },
  "language_info": {
   "codemirror_mode": {
    "name": "ipython",
    "version": 3
   },
   "file_extension": ".py",
   "mimetype": "text/x-python",
   "name": "python",
   "nbconvert_exporter": "python",
   "pygments_lexer": "ipython3",
   "version": "3.8.16"
  },
  "orig_nbformat": 4
 },
 "nbformat": 4,
 "nbformat_minor": 2
}
