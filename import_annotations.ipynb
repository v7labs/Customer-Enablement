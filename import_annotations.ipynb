{
 "cells": [
  {
   "attachments": {},
   "cell_type": "markdown",
   "metadata": {},
   "source": [
    "# 🚀 Import Annotations to V7"
   ]
  },
  {
   "cell_type": "code",
   "execution_count": null,
   "metadata": {},
   "outputs": [],
   "source": [
    "import darwin.importer as importer\n",
    "from darwin.client import Client\n",
    "from darwin.importer import get_importer"
   ]
  },
  {
   "cell_type": "code",
   "execution_count": null,
   "metadata": {},
   "outputs": [],
   "source": [
    "client = Client.local() # or Client.from_api_key(\"your_api_key\")"
   ]
  },
  {
   "cell_type": "code",
   "execution_count": null,
   "metadata": {},
   "outputs": [],
   "source": [
    "DATASET_IDENTIFIER = \"YOUR DATASET IDENTIFIER\"\n",
    "dataset = client.get_remote_dataset(dataset_identifier=DATASET_IDENTIFIER)"
   ]
  },
  {
   "cell_type": "code",
   "execution_count": null,
   "metadata": {},
   "outputs": [],
   "source": [
    "FORMAT_NAME = \"darwin\"\n",
    "parser = get_importer(FORMAT_NAME)"
   ]
  },
  {
   "cell_type": "code",
   "execution_count": null,
   "metadata": {},
   "outputs": [],
   "source": [
    "# ANNOTATION_PATHS = [\"PATH TO YOUR ANNOTATION FILES\"]\n",
    "\n",
    "### Add all annotation files in a directory\n",
    "from pathlib import Path\n",
    "my_directory = Path(\"PATH TO YOUR ANNOTATION FILES DIRECTORY\")\n",
    "ANNOTATION_PATHS = list(Path(my_directory).glob(\"*.json\"))"
   ]
  },
  {
   "cell_type": "code",
   "execution_count": null,
   "metadata": {},
   "outputs": [],
   "source": [
    "importer.import_annotations(dataset, parser, ANNOTATION_PATHS, append=True)"
   ]
  }
 ],
 "metadata": {
  "kernelspec": {
   "display_name": "V7",
   "language": "python",
   "name": "python3"
  },
  "language_info": {
   "codemirror_mode": {
    "name": "ipython",
    "version": 3
   },
   "file_extension": ".py",
   "mimetype": "text/x-python",
   "name": "python",
   "nbconvert_exporter": "python",
   "pygments_lexer": "ipython3",
   "version": "3.8.16"
  },
  "orig_nbformat": 4
 },
 "nbformat": 4,
 "nbformat_minor": 2
}
