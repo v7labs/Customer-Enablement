{
 "cells": [
  {
   "cell_type": "code",
   "execution_count": 1,
   "id": "1500bbc5",
   "metadata": {},
   "outputs": [],
   "source": [
    "import requests\n",
    "import json\n",
    "\n",
    "from auth import API_KEY"
   ]
  },
  {
   "attachments": {},
   "cell_type": "markdown",
   "id": "ebf20912",
   "metadata": {},
   "source": [
    "## 🖼️ Step 0: Which data do we want?"
   ]
  },
  {
   "cell_type": "code",
   "execution_count": 2,
   "id": "e1e23700-9ed2-4f44-9dfc-20e7e423c5d2",
   "metadata": {},
   "outputs": [
    {
     "data": {
      "text/plain": [
       "{'Cat_4.webp': 'data/Cat_4.webp', 'Cat_5.webp': 'data/Cat_5.webp'}"
      ]
     },
     "execution_count": 2,
     "metadata": {},
     "output_type": "execute_result"
    }
   ],
   "source": [
    "# Define paths to the images\n",
    "paths = [\n",
    "    'PATH_TO_IMAGE_1',\n",
    "    'PATH_TO_IMAGE_2',\n",
    "]\n",
    "\n",
    "# Create a dictionary of filenames (key) --> filepaths (value) pairs\n",
    "name_p = {}\n",
    "for p in paths:\n",
    "    name = p.split('/')[-1]\n",
    "    name_p[name] = p\n",
    "\n",
    "name_p"
   ]
  },
  {
   "cell_type": "markdown",
   "id": "68d186e8",
   "metadata": {},
   "source": [
    "## 🗃️ Step 1: Register the data"
   ]
  },
  {
   "cell_type": "code",
   "execution_count": 3,
   "id": "8a189bc9-94fe-411f-8c3b-d2b3503e986a",
   "metadata": {},
   "outputs": [
    {
     "name": "stdout",
     "output_type": "stream",
     "text": [
      "{\"blocked_items\":[],\"items\":[{\"id\":\"018755eb-3b51-c16a-12d7-301755ea6c5e\",\"name\":\"Cat_5.webp\",\"path\":\"/\",\"slots\":[{\"as_frames\":false,\"extract_views\":false,\"file_name\":\"Cat_5.webp\",\"slot_name\":\"0\",\"type\":\"image\",\"upload_id\":\"999bb002-7945-4b3a-a8b5-9950c5a19013\"}]},{\"id\":\"018755eb-3b51-c961-1e0d-eb6bbdd0fb95\",\"name\":\"Cat_4.webp\",\"path\":\"/\",\"slots\":[{\"as_frames\":false,\"extract_views\":false,\"file_name\":\"Cat_4.webp\",\"slot_name\":\"0\",\"type\":\"image\",\"upload_id\":\"548466c4-0b89-4a7c-b628-5c12d648ca87\"}]}]}\n"
     ]
    }
   ],
   "source": [
    "team_slug = \"YOUR_TEAM_SLUG\"\n",
    "dataset_slug = \"YOUR_DATASET_SLUG\"\n",
    "\n",
    "url = f\"https://darwin.v7labs.com/api/v2/teams/{team_slug}/items/register_upload\"\n",
    "\n",
    "# Create the payload for data registration\n",
    "slots = []\n",
    "for item in name_p:\n",
    "    slots.append({\n",
    "        \"slots\": [\n",
    "        {\n",
    "            \"as_frames\": False,\n",
    "            \"file_name\": item,\n",
    "            \"slot_name\": '0'\n",
    "        }\n",
    "        ],\n",
    "        \"path\": \"/\",\n",
    "        \"name\": item\n",
    "        }\n",
    "        )\n",
    "    \n",
    "payload = {\n",
    "    \"items\": slots,\n",
    "    \"dataset_slug\": dataset_slug\n",
    "}\n",
    "\n",
    "headers = {\n",
    "    \"Accept\": \"application/json\",\n",
    "    \"Content-Type\": \"application/json\",\n",
    "    \"Authorization\": f\"ApiKey {API_KEY}\"\n",
    "}\n",
    "\n",
    "response = requests.post(url, json=payload, headers=headers)\n",
    "\n",
    "print(response.text)"
   ]
  },
  {
   "cell_type": "code",
   "execution_count": 4,
   "id": "6d5a8756-86ac-484f-bf7a-2d58c41c3930",
   "metadata": {},
   "outputs": [],
   "source": [
    "# Get upload IDs\n",
    "upload_uid_p = {}\n",
    "for item in json.loads(response.text)['items']:\n",
    "    upload_uid_p[item['slots'][0]['upload_id']] = name_p[item['name']]"
   ]
  },
  {
   "cell_type": "code",
   "execution_count": 5,
   "id": "3210179f",
   "metadata": {},
   "outputs": [
    {
     "data": {
      "text/plain": [
       "{'999bb002-7945-4b3a-a8b5-9950c5a19013': 'data/Cat_5.webp',\n",
       " '548466c4-0b89-4a7c-b628-5c12d648ca87': 'data/Cat_4.webp'}"
      ]
     },
     "execution_count": 5,
     "metadata": {},
     "output_type": "execute_result"
    }
   ],
   "source": [
    "upload_uid_p"
   ]
  },
  {
   "attachments": {},
   "cell_type": "markdown",
   "id": "9751b62b",
   "metadata": {},
   "source": [
    "## Steps 2-3-4: 🔏 Sign, 📤 Upload, and ✅ Confirm"
   ]
  },
  {
   "cell_type": "code",
   "execution_count": 6,
   "id": "813c22c6-9f5d-4ce9-a960-a2f0debde10b",
   "metadata": {},
   "outputs": [
    {
     "name": "stdout",
     "output_type": "stream",
     "text": [
      "<Response [200]> \n",
      "<Response [200]> {}\n",
      "<Response [200]> \n",
      "<Response [200]> {}\n"
     ]
    }
   ],
   "source": [
    "# Perform steps 2, 3, & 4 for each item\n",
    "for upload_id in upload_uid_p:\n",
    "\n",
    "    # 2: Sign the upload, store the upload URL\n",
    "    url = f\"https://darwin.v7labs.com/api/v2/teams/{team_slug}/items/uploads/{upload_id}/sign\"\n",
    "    response = requests.get(url, headers=headers)\n",
    "    upload_url = json.loads(response.text)['upload_url']\n",
    "\n",
    "    # 3: Upload the file using the URL and local filepath\n",
    "    with open(upload_uid_p[upload_id], 'rb') as f:\n",
    "        data = f.read()\n",
    "    response = requests.put(url=upload_url, data=data)\n",
    "    print(response, response.text)\n",
    "    \n",
    "    # 4: Confirm the upload\n",
    "    url = f'https://darwin.v7labs.com/api/v2/teams/{team_slug}/items/uploads/{upload_id}/confirm'\n",
    "    response = requests.post(url, headers=headers)\n",
    "    print(response, response.text)"
   ]
  },
  {
   "cell_type": "code",
   "execution_count": null,
   "id": "004158c1",
   "metadata": {},
   "outputs": [],
   "source": []
  }
 ],
 "metadata": {
  "kernelspec": {
   "display_name": "Python 3",
   "language": "python",
   "name": "python3"
  },
  "language_info": {
   "codemirror_mode": {
    "name": "ipython",
    "version": 3
   },
   "file_extension": ".py",
   "mimetype": "text/x-python",
   "name": "python",
   "nbconvert_exporter": "python",
   "pygments_lexer": "ipython3",
   "version": "3.8.16"
  },
  "vscode": {
   "interpreter": {
    "hash": "c7d4d2464caec71f654ab06be0461888ac08fd5dc40c48c0be3974cdea28e499"
   }
  }
 },
 "nbformat": 4,
 "nbformat_minor": 5
}
