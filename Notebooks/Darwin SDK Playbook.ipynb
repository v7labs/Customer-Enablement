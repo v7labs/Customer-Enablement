{
 "cells": [
  {
   "cell_type": "markdown",
   "id": "4c40c974",
   "metadata": {},
   "source": [
    "\n",
    "# Using The darwin-py SDK"
   ]
  },
  {
   "cell_type": "markdown",
   "id": "00095291",
   "metadata": {
    "heading_collapsed": true
   },
   "source": [
    "## Modules"
   ]
  },
  {
   "cell_type": "code",
   "execution_count": 1,
   "id": "7d06f542",
   "metadata": {
    "hidden": true
   },
   "outputs": [],
   "source": [
    "# Required darwin imports for SDK use in the notebook\n",
    "import darwin\n",
    "import darwin.importer as importer\n",
    "from darwin.importer import get_importer\n",
    "from darwin.client import Client\n",
    "from darwin.item import DatasetItem\n",
    "from darwin.datatypes import AnnotationClass\n",
    "from darwin.dataset import RemoteDataset\n",
    "from darwin.exceptions import NotFound\n",
    "\n",
    "\n",
    "# Required python imports for notebook usage\n",
    "import re\n",
    "import glob\n",
    "import os\n",
    "import json\n",
    "from IPython.display import HTML\n",
    "from IPython.display import IFrame\n",
    "import time\n",
    "from pathlib import Path"
   ]
  },
  {
   "cell_type": "markdown",
   "id": "189b0d37",
   "metadata": {
    "heading_collapsed": true
   },
   "source": [
    "## Inititalise Darwin"
   ]
  },
  {
   "cell_type": "markdown",
   "id": "d5db9b3b",
   "metadata": {
    "heading_collapsed": true,
    "hidden": true
   },
   "source": [
    "### Generate API Key"
   ]
  },
  {
   "cell_type": "markdown",
   "id": "1b448126",
   "metadata": {
    "hidden": true
   },
   "source": [
    "<div class=\"alert alert-block alert-info\"> <b>Tip:</b> You can generate your API key <a style=\"font_size: 120%; text-decoration: underline; cursor: pointer;\" href=\"https://darwin.v7labs.com/?settings=api-keys\"> here </a> \n",
    "    \n",
    ">  Run the cell below for a video guide on how to generate an API key </div>"
   ]
  },
  {
   "cell_type": "code",
   "execution_count": null,
   "id": "93306965",
   "metadata": {
    "hidden": true
   },
   "outputs": [],
   "source": [
    "IFrame(\"https://www.loom.com/embed/3d414eb9c0444b0f9309d49b8e393414\", width=950, height=400)"
   ]
  },
  {
   "cell_type": "markdown",
   "id": "73840ec5",
   "metadata": {
    "hidden": true
   },
   "source": [
    "<div class=\"alert alert-block alert-warning\">\n",
    "<b>🚧 Permissions:</b> The API key permissions selected when creating the key will determine which commands in the SDK are allowed. If the key has insufficient permissions for a certain action an error will be shown: <i style=\"color: #E75C58\">Insufficient permissions </i> or <i style=\"color: #E75C58\"> Invalid API key </i>.\n",
    "</div>"
   ]
  },
  {
   "cell_type": "markdown",
   "id": "0371df9f",
   "metadata": {
    "heading_collapsed": true,
    "hidden": true
   },
   "source": [
    "### Authenticate"
   ]
  },
  {
   "cell_type": "code",
   "execution_count": 6,
   "id": "2f966a24",
   "metadata": {
    "hidden": true
   },
   "outputs": [],
   "source": [
    "API_KEY = \"<YOUR-API-KEY>\"\n",
    "\n",
    "client = Client.from_api_key(API_KEY)"
   ]
  },
  {
   "cell_type": "markdown",
   "id": "502417a1",
   "metadata": {
    "heading_collapsed": true,
    "hidden": true
   },
   "source": [
    "### Authenticate From A Config "
   ]
  },
  {
   "cell_type": "markdown",
   "id": "3bf27bfa",
   "metadata": {
    "hidden": true
   },
   "source": [
    "<div class=\"alert alert-block alert-info\"> <b>Tip:</b> You have 2 options here, either you can use your local conifg.yaml found in your darwin configuration <i style=\"color: #abaaa6\"> ~/.darwin/config.yaml </i>. Alternatively, create a yaml config file and pass the file path through to the client object. </div>"
   ]
  },
  {
   "cell_type": "markdown",
   "id": "ec77500e",
   "metadata": {
    "heading_collapsed": true,
    "hidden": true
   },
   "source": [
    "#### From local darwin config"
   ]
  },
  {
   "cell_type": "code",
   "execution_count": null,
   "id": "d02bcd96",
   "metadata": {
    "hidden": true
   },
   "outputs": [],
   "source": [
    "client = Client.local()"
   ]
  },
  {
   "cell_type": "markdown",
   "id": "c1cf1da8",
   "metadata": {
    "heading_collapsed": true,
    "hidden": true
   },
   "source": [
    "#### From sepcific config.yaml file"
   ]
  },
  {
   "cell_type": "code",
   "execution_count": null,
   "id": "6480410f",
   "metadata": {
    "hidden": true
   },
   "outputs": [],
   "source": [
    "client = Client.from_config(\"~./your_yaml_config_path.yaml\")"
   ]
  },
  {
   "cell_type": "markdown",
   "id": "6faef188",
   "metadata": {
    "heading_collapsed": true
   },
   "source": [
    "## Interact With Datasets"
   ]
  },
  {
   "cell_type": "markdown",
   "id": "786dbe24",
   "metadata": {
    "heading_collapsed": true,
    "hidden": true
   },
   "source": [
    "### Create / Load Datasets"
   ]
  },
  {
   "cell_type": "code",
   "execution_count": 7,
   "id": "90364e36",
   "metadata": {
    "hidden": true
   },
   "outputs": [],
   "source": [
    "dataset_name = \"<YOUR-DATASET-NAME>\"\n",
    "dataset = client.create_dataset(dataset_name)"
   ]
  },
  {
   "cell_type": "markdown",
   "id": "c89e0cea",
   "metadata": {
    "hidden": true
   },
   "source": [
    "<div class=\"alert alert-block alert-warning\">\n",
    "<b>🚧 Error Handling:</b> To avoid a <i style=\"color: #E75C58\"> Name Taken </i> error <u>(or simply load an already created dataset - see except)</u>, users can add a conditional block like below.\n",
    "</div>"
   ]
  },
  {
   "cell_type": "code",
   "execution_count": 20,
   "id": "48ff101b",
   "metadata": {
    "hidden": true
   },
   "outputs": [
    {
     "name": "stdout",
     "output_type": "stream",
     "text": [
      "Dataset name already created, connected to existing.\n"
     ]
    }
   ],
   "source": [
    "dataset_name = \"<DATASET-NAME>\"\n",
    "slug_dataset_name = dataset_name.lower().strip().replace(' ', '-')\n",
    "\n",
    "try:\n",
    "    dataset = client.create_dataset(dataset_name)\n",
    "    print('New dataset created.')\n",
    "except darwin.exceptions.NameTaken:\n",
    "    dataset_2 = client.get_remote_dataset(slug_dataset_name)\n",
    "    print('Dataset name already created, connected to existing.')"
   ]
  },
  {
   "cell_type": "markdown",
   "id": "cadd7276",
   "metadata": {
    "heading_collapsed": true,
    "hidden": true
   },
   "source": [
    "### View Datasets"
   ]
  },
  {
   "cell_type": "markdown",
   "id": "2f560ad5",
   "metadata": {
    "heading_collapsed": true,
    "hidden": true
   },
   "source": [
    "#### All local folders"
   ]
  },
  {
   "cell_type": "code",
   "execution_count": null,
   "id": "7c259a78",
   "metadata": {
    "hidden": true
   },
   "outputs": [],
   "source": [
    "[{'name': i.name, 'id': i.dataset_id, 'slug_name': i.slug, 'no_files': i.item_count, 'progress': i.progress} for i \n",
    " in client.list_local_datasets()]"
   ]
  },
  {
   "cell_type": "markdown",
   "id": "262a7957",
   "metadata": {
    "heading_collapsed": true,
    "hidden": true
   },
   "source": [
    "#### All remote datasets on darwin"
   ]
  },
  {
   "cell_type": "code",
   "execution_count": 4,
   "id": "27f3c850",
   "metadata": {
    "hidden": true
   },
   "outputs": [
    {
     "data": {
      "text/plain": [
       "[{'name': 'Ailly Demo',\n",
       "  'id': 618445,\n",
       "  'slug_name': 'ailly-demo',\n",
       "  'no_files': 116,\n",
       "  'progress': 0.0},\n",
       " {'name': 'bb-aa-conversion',\n",
       "  'id': 616167,\n",
       "  'slug_name': 'bb-aa-conversion',\n",
       "  'no_files': 1,\n",
       "  'progress': 0.0},\n",
       " {'name': 'Databricks Demo',\n",
       "  'id': 628282,\n",
       "  'slug_name': 'databricks-demo',\n",
       "  'no_files': 0,\n",
       "  'progress': 0.0},\n",
       " {'name': 'Demo Dataset',\n",
       "  'id': 613825,\n",
       "  'slug_name': 'demo-dataset',\n",
       "  'no_files': 87,\n",
       "  'progress': 0.0},\n",
       " {'name': 'football-players',\n",
       "  'id': 614128,\n",
       "  'slug_name': 'football-players',\n",
       "  'no_files': 130,\n",
       "  'progress': 0.023076923076923078},\n",
       " {'name': 'intel-vid-testing',\n",
       "  'id': 618300,\n",
       "  'slug_name': 'intel-vid-testing',\n",
       "  'no_files': 800,\n",
       "  'progress': 0.0},\n",
       " {'name': 'Northvolt-Demo',\n",
       "  'id': 622090,\n",
       "  'slug_name': 'northvolt-demo',\n",
       "  'no_files': 5,\n",
       "  'progress': 0.2},\n",
       " {'name': 'ProductShelf',\n",
       "  'id': 620713,\n",
       "  'slug_name': 'productshelf',\n",
       "  'no_files': 2,\n",
       "  'progress': 0.0},\n",
       " {'name': 'slot-videos',\n",
       "  'id': 622401,\n",
       "  'slug_name': 'slot-videos',\n",
       "  'no_files': 1,\n",
       "  'progress': 0.0},\n",
       " {'name': 'test-api-wf',\n",
       "  'id': 616765,\n",
       "  'slug_name': 'test-api-wf',\n",
       "  'no_files': 0,\n",
       "  'progress': 0.0},\n",
       " {'name': 'yolov7-testing',\n",
       "  'id': 619416,\n",
       "  'slug_name': 'yolov7-testing',\n",
       "  'no_files': 813,\n",
       "  'progress': 0.0}]"
      ]
     },
     "execution_count": 4,
     "metadata": {},
     "output_type": "execute_result"
    }
   ],
   "source": [
    "[{'name': i.name, 'id': i.dataset_id, 'slug_name': i.slug, 'no_files': i.item_count, 'progress': i.progress} for i \n",
    " in client.list_remote_datasets()]"
   ]
  },
  {
   "cell_type": "markdown",
   "id": "cad612c5",
   "metadata": {
    "heading_collapsed": true,
    "hidden": true
   },
   "source": [
    "### Delete Datasets"
   ]
  },
  {
   "cell_type": "markdown",
   "id": "3f23419d",
   "metadata": {
    "hidden": true
   },
   "source": [
    "<div class=\"alert alert-block alert-danger\"><b>WARNING:</b> This command will delete any created dataset, so be careful when using.</div>"
   ]
  },
  {
   "cell_type": "code",
   "execution_count": null,
   "id": "31deb5c7",
   "metadata": {
    "hidden": true
   },
   "outputs": [],
   "source": [
    "client.archive_remote_dataset('dataset_id', 'slug_team_name')"
   ]
  },
  {
   "cell_type": "markdown",
   "id": "e6148944",
   "metadata": {
    "hidden": true
   },
   "source": [
    "<div class=\"alert alert-block alert-info\"> <b>Tip:</b> Alternatively, you can fetch your dataset id by navigating to your dataset in darwin, then just copy the id from your url - e.g.<br> &nbsp &nbsp &nbsp &nbsp <i style=\"color: #abaaa6\"> https://darwin.v7labs.com/datasets/<i style=\"color: #fc8803\">123456</i>/dataset-management </i>\n",
    "</div>"
   ]
  },
  {
   "cell_type": "markdown",
   "id": "5a64c119",
   "metadata": {
    "heading_collapsed": true,
    "hidden": true
   },
   "source": [
    "### Upload Files To Dataset"
   ]
  },
  {
   "cell_type": "code",
   "execution_count": null,
   "id": "ff800a7e",
   "metadata": {
    "hidden": true
   },
   "outputs": [],
   "source": [
    "list_of_files = ['./your_file_path/file.png']\n",
    "\n",
    "dataset.push(list_of_files)"
   ]
  },
  {
   "cell_type": "markdown",
   "id": "17c6337b",
   "metadata": {
    "hidden": true
   },
   "source": [
    "#### Upload folder of files "
   ]
  },
  {
   "cell_type": "code",
   "execution_count": 5,
   "id": "c8999eb2",
   "metadata": {
    "hidden": true
   },
   "outputs": [
    {
     "name": "stdout",
     "output_type": "stream",
     "text": [
      "0 - frame_6\n",
      "1 - frame_7\n",
      "2 - frame_5\n",
      "3 - frame_4\n",
      "4 - frame_0\n",
      "5 - frame_1\n",
      "6 - frame_3\n",
      "7 - frame_2\n"
     ]
    },
    {
     "data": {
      "text/plain": [
       "<darwin.dataset.upload_manager.UploadHandlerV2 at 0x11c13fac0>"
      ]
     },
     "execution_count": 5,
     "metadata": {},
     "output_type": "execute_result"
    }
   ],
   "source": [
    "compat_ftypes = (\".avi\", \".bmp\", \".dcm\", \".gz\", \".hevc\", \".jpeg\", \".jpg\", \".mkv\", \".mov\", \".mp4\", \".ndpi\", \n",
    "                 \".nii.gz\", \".nii\", \".pdf\", \".png\", \".rvg\", \".svs\", \".tif\", \".tiff\", \".webp\")\n",
    "\n",
    "your_folder_path = \"/Users/harry/Documents/Data/hyperai/temp_video_frames\"\n",
    "\n",
    "\n",
    "upload_files = []\n",
    "for root, dirs, files in os.walk(your_folder_path):\n",
    "    for ix, file in enumerate(files):\n",
    "        if file.lower().endswith(compat_ftypes):\n",
    "            if file.split(\".\")[0] != '':\n",
    "                print(f'{ix} - {file.split(\".\")[0]}')\n",
    "                upload_files.append(os.path.join(root, file))\n",
    "                               \n",
    "dataset.push(upload_files)"
   ]
  },
  {
   "cell_type": "markdown",
   "id": "82b78509",
   "metadata": {
    "heading_collapsed": true,
    "hidden": true
   },
   "source": [
    "### Download Dataset"
   ]
  },
  {
   "cell_type": "markdown",
   "id": "3fc0be85",
   "metadata": {
    "heading_collapsed": true,
    "hidden": true
   },
   "source": [
    "#### Create an export"
   ]
  },
  {
   "cell_type": "code",
   "execution_count": 8,
   "id": "d1bcf72c",
   "metadata": {
    "hidden": true
   },
   "outputs": [],
   "source": [
    "release_name = \"Your Release Name\".lower().strip().replace(' ', '-') #this should be in slug format\n",
    "dataset.export(release_name)"
   ]
  },
  {
   "cell_type": "markdown",
   "id": "ffae04a3",
   "metadata": {
    "heading_collapsed": true,
    "hidden": true
   },
   "source": [
    "#### Download export"
   ]
  },
  {
   "cell_type": "code",
   "execution_count": 1,
   "id": "e3dfca72",
   "metadata": {
    "hidden": true
   },
   "outputs": [],
   "source": [
    "while True:\n",
    "    print(\"Waiting for Release to be created...\")\n",
    "    time.sleep(10)\n",
    "    try:\n",
    "        print(\"Trying to get release\")\n",
    "        release = dataset.get_release(release_name)\n",
    "\n",
    "        print(\"Got Release, downloading it!\")\n",
    "        release.download_zip(Path(f\"./{release_name}.zip\"))\n",
    "        break\n",
    "    except NotFound:\n",
    "        print(\"Release not ready yet!\")\n",
    "        continue"
   ]
  },
  {
   "cell_type": "markdown",
   "id": "e4b4b93c",
   "metadata": {
    "heading_collapsed": true
   },
   "source": [
    "## Annotations"
   ]
  },
  {
   "cell_type": "markdown",
   "id": "c8df1ee1",
   "metadata": {
    "heading_collapsed": true,
    "hidden": true
   },
   "source": [
    "### View Existing Classes"
   ]
  },
  {
   "cell_type": "code",
   "execution_count": 8,
   "id": "b6a5e8cd",
   "metadata": {
    "hidden": true,
    "scrolled": true
   },
   "outputs": [
    {
     "data": {
      "text/plain": [
       "[{'annotation_class_image_url': None,\n",
       "  'annotation_types': ['polygon',\n",
       "   'attributes',\n",
       "   'auto_annotate',\n",
       "   'measures',\n",
       "   'inference'],\n",
       "  'dataset_id': None,\n",
       "  'datasets': [{'id': 613825}],\n",
       "  'deletion_blocked': False,\n",
       "  'description': None,\n",
       "  'id': 221225,\n",
       "  'images': [],\n",
       "  'inserted_at': '2023-03-08T13:11:19',\n",
       "  'metadata': {'_color': 'rgba(143,255,0,1.0)',\n",
       "   'attributes': {},\n",
       "   'auto_annotate': {},\n",
       "   'inference': {},\n",
       "   'measures': {},\n",
       "   'polygon': {}},\n",
       "  'name': 'correction-football',\n",
       "  'team_id': 3980,\n",
       "  'updated_at': '2023-03-08T14:54:07',\n",
       "  'workflows': [],\n",
       "  'available': True},\n",
       " {'annotation_class_image_url': None,\n",
       "  'annotation_types': ['polygon',\n",
       "   'attributes',\n",
       "   'text',\n",
       "   'auto_annotate',\n",
       "   'measures',\n",
       "   'inference'],\n",
       "  'dataset_id': None,\n",
       "  'datasets': [{'id': 613825}],\n",
       "  'deletion_blocked': False,\n",
       "  'description': None,\n",
       "  'id': 219936,\n",
       "  'images': [],\n",
       "  'inserted_at': '2023-03-03T14:55:14',\n",
       "  'metadata': {'_color': 'rgba(219,0,255,1.0)',\n",
       "   'attributes': {},\n",
       "   'auto_annotate': {},\n",
       "   'inference': {},\n",
       "   'measures': {},\n",
       "   'polygon': {},\n",
       "   'text': {}},\n",
       "  'name': 'football',\n",
       "  'team_id': 3980,\n",
       "  'updated_at': '2023-03-08T17:20:54',\n",
       "  'workflows': [],\n",
       "  'available': True},\n",
       " {'annotation_class_image_url': None,\n",
       "  'annotation_types': ['tag', 'inference'],\n",
       "  'dataset_id': None,\n",
       "  'datasets': [{'id': 613825}],\n",
       "  'deletion_blocked': True,\n",
       "  'description': None,\n",
       "  'id': 210863,\n",
       "  'images': [],\n",
       "  'inserted_at': '2023-02-03T10:58:41',\n",
       "  'metadata': {'_color': 'rgba(0,133,255,1.0)', 'inference': {}, 'tag': {}},\n",
       "  'name': 'goal scored',\n",
       "  'team_id': 3980,\n",
       "  'updated_at': '2023-02-03T10:58:41',\n",
       "  'workflows': ['5136351b-9b6b-4fab-8472-962161c05c6f'],\n",
       "  'available': True},\n",
       " {'annotation_class_image_url': None,\n",
       "  'annotation_types': ['bounding_box', 'measures', 'inference'],\n",
       "  'dataset_id': None,\n",
       "  'datasets': [{'id': 613825}],\n",
       "  'deletion_blocked': True,\n",
       "  'description': None,\n",
       "  'id': 219937,\n",
       "  'images': [],\n",
       "  'inserted_at': '2023-03-03T14:57:58',\n",
       "  'metadata': {'_color': 'rgba(0,102,255,1.0)',\n",
       "   'bounding_box': {},\n",
       "   'inference': {},\n",
       "   'measures': {}},\n",
       "  'name': 'player_example',\n",
       "  'team_id': 3980,\n",
       "  'updated_at': '2023-03-03T14:57:58',\n",
       "  'workflows': ['5136351b-9b6b-4fab-8472-962161c05c6f'],\n",
       "  'available': True}]"
      ]
     },
     "execution_count": 8,
     "metadata": {},
     "output_type": "execute_result"
    }
   ],
   "source": [
    "class_list = dataset.fetch_remote_classes()\n",
    "class_list"
   ]
  },
  {
   "cell_type": "code",
   "execution_count": 21,
   "id": "58c127b7",
   "metadata": {
    "hidden": true
   },
   "outputs": [
    {
     "name": "stdout",
     "output_type": "stream",
     "text": [
      "correction-football polygon\n",
      "football polygon\n",
      "goal scored tag\n",
      "player_example bounding_box\n"
     ]
    }
   ],
   "source": [
    "for _class in class_list:\n",
    "    new_dataset..add_annotation_class(AnnotationClass(_class['name'], _class['annotation_types'][0]))"
   ]
  },
  {
   "cell_type": "markdown",
   "id": "08db142a",
   "metadata": {
    "heading_collapsed": true,
    "hidden": true
   },
   "source": [
    "### Create New Annotation Class"
   ]
  },
  {
   "cell_type": "markdown",
   "id": "c0a34137",
   "metadata": {
    "hidden": true
   },
   "source": [
    "<u><b> Class Type Options: </b></u>\n",
    "- polygon <i>(id = 3)</i>\n",
    "- tag <i>(id = 1)</i>\n",
    "- line <i>(id = 11)</i>\n",
    "- ellipse <i>(id = 60)</i>\n",
    "- bounding_box <i>(id = 2)</i>\n",
    "- skeleton <i>(id = 12)</i>\n",
    "- keypoint <i>(id = 7)</i>\n",
    "- cuboid <i>(id = 8)</i>"
   ]
  },
  {
   "cell_type": "code",
   "execution_count": null,
   "id": "f68741fa",
   "metadata": {
    "hidden": true
   },
   "outputs": [],
   "source": [
    "# This can be done through the dataset object\n",
    "\n",
    "dataset.create_annotation_class('class_name', 'class_type')"
   ]
  },
  {
   "cell_type": "code",
   "execution_count": null,
   "id": "e1c1bbd5",
   "metadata": {
    "hidden": true
   },
   "outputs": [],
   "source": [
    "# Alternatively, it can be done using the client object (this option gives functionality to create \n",
    "# multiple classes at once)\n",
    "\n",
    "client.create_annotation_class(dataset_id, [annotation_class_id], 'name of class')\n",
    "\n",
    "## e.g. to create a polygon, do:\n",
    "## client.create_annotation_class(123456, [3], 'polygon_class')"
   ]
  },
  {
   "cell_type": "markdown",
   "id": "983465ae",
   "metadata": {
    "heading_collapsed": true,
    "hidden": true
   },
   "source": [
    "### Add Existing Class To Dataset"
   ]
  },
  {
   "cell_type": "markdown",
   "id": "c6707047",
   "metadata": {
    "hidden": true
   },
   "source": [
    "<div class=\"alert alert-block alert-success\">\n",
    "<b></b> If the class already exists for this dataset, no duplicate will be added and no error will be raised\n",
    "</div>"
   ]
  },
  {
   "cell_type": "code",
   "execution_count": 18,
   "id": "0b33306e",
   "metadata": {
    "hidden": true
   },
   "outputs": [
    {
     "data": {
      "text/plain": [
       "{'annotation_class_image_url': None,\n",
       " 'annotation_types': ['bounding_box', 'measures', 'inference'],\n",
       " 'dataset_id': None,\n",
       " 'datasets': [{'id': 614128}, {'id': 613825}],\n",
       " 'deletion_blocked': False,\n",
       " 'description': None,\n",
       " 'id': 212698,\n",
       " 'images': [],\n",
       " 'inserted_at': '2023-02-09T17:42:57',\n",
       " 'metadata': {'_color': 'rgba(255,199,0,1.0)',\n",
       "  'bounding_box': {},\n",
       "  'inference': {},\n",
       "  'measures': {}},\n",
       " 'name': 'player',\n",
       " 'team_id': 3980,\n",
       " 'updated_at': '2023-02-09T17:42:57',\n",
       " 'workflows': []}"
      ]
     },
     "execution_count": 18,
     "metadata": {},
     "output_type": "execute_result"
    }
   ],
   "source": [
    "existing_class = AnnotationClass('player', 'bounding_box')\n",
    "\n",
    "dataset.add_annotation_class(existing_class)"
   ]
  },
  {
   "cell_type": "markdown",
   "id": "b67aaa44",
   "metadata": {
    "heading_collapsed": true
   },
   "source": [
    "## Comments"
   ]
  },
  {
   "cell_type": "markdown",
   "id": "857ea6a5",
   "metadata": {
    "hidden": true
   },
   "source": [
    "<div class=\"alert alert-block alert-info\"> <b>Tip:</b> The API is more commonly used and an easier option for comment posting, but we have outlined how to do this from the SDK below also. </div>"
   ]
  },
  {
   "cell_type": "markdown",
   "id": "de5032f4",
   "metadata": {
    "heading_collapsed": true,
    "hidden": true
   },
   "source": [
    "### Post a Comment"
   ]
  },
  {
   "cell_type": "markdown",
   "id": "28b28998",
   "metadata": {
    "heading_collapsed": true,
    "hidden": true
   },
   "source": [
    "#### Create a slot"
   ]
  },
  {
   "cell_type": "markdown",
   "id": "c7f6b378",
   "metadata": {
    "hidden": true
   },
   "source": [
    "In your json export from the platform, there will be a <b>'slots'</b> key for each file in exported from your dataset.\n",
    "This is required to create the dataset item, which is the primary argument required for posting a comment to a specific file. \n",
    "\n",
    "Either copy & paste from your export <i style='color: #abaaa6'>(see example below)</i>:"
   ]
  },
  {
   "cell_type": "code",
   "execution_count": null,
   "id": "9186fad1",
   "metadata": {
    "hidden": true
   },
   "outputs": [],
   "source": [
    "slots = [\n",
    "      {\n",
    "        \"type\": \"image\",\n",
    "        \"slot_name\": \"0\",\n",
    "        \"width\": 100,\n",
    "        \"height\": 200,\n",
    "        \"thumbnail_url\": \"https://darwin.v7labs.com/api/v2/teams/slug-team-name/files/fa416a35-7964-4c34-8c9e-47075f8f7292/thumbnail\",\n",
    "        \"source_files\": [\n",
    "          {\n",
    "            \"file_name\": \"file_name.jpeg\",\n",
    "            \"url\": \"https://darwin.v7labs.com/api/v2/teams/slug-team-name/uploads/26830af8-3c7d-4f07-ad31-c5e6d05a30c7\"\n",
    "          }\n",
    "        ]\n",
    "      }\n",
    "    ]"
   ]
  },
  {
   "cell_type": "markdown",
   "id": "81e9547b",
   "metadata": {
    "hidden": true
   },
   "source": [
    "<u>Or</u>, you can programatically get the <b>slot</b> from your export using the below <i>function</i>: \n",
    "<a id='export-function'></a>"
   ]
  },
  {
   "cell_type": "code",
   "execution_count": null,
   "id": "0dc486ee",
   "metadata": {
    "hidden": true
   },
   "outputs": [],
   "source": [
    "# The below function gets you most recent export from your export location:\n",
    "## Alternatively you can just pass the file path in question\n",
    "\n",
    "def get_darwin_json_export(dataset_item_name, export_location_path, exact_export_file_path=None):\n",
    "    if exact_export_file_path:\n",
    "        f = open(exact_export_file_path)\n",
    "        darwin_export = json.load(f)\n",
    "        f.close()\n",
    "    else:\n",
    "        for file in glob.glob(export_location_path + r'/*json'):\n",
    "            f = open(file)\n",
    "            temp_export = json.load(f)\n",
    "            if temp_export['item']['name'] == dataset_item_name:\n",
    "                darwin_export = temp_export\n",
    "            else:\n",
    "                darwin_export = 'NO json export exists for this file, check your dataset_item_name'\n",
    "            f.close()\n",
    "    return darwin_export"
   ]
  },
  {
   "cell_type": "code",
   "execution_count": null,
   "id": "8bf9e33b",
   "metadata": {
    "hidden": true
   },
   "outputs": [],
   "source": [
    "example_export = get_darwin_json_export(r'file_name',r'folder_path')\n",
    "slot = example_export['item']['slots']\n",
    "slot"
   ]
  },
  {
   "cell_type": "markdown",
   "id": "4e2194d6",
   "metadata": {
    "heading_collapsed": true,
    "hidden": true
   },
   "source": [
    "#### Create a dataset item"
   ]
  },
  {
   "cell_type": "code",
   "execution_count": null,
   "id": "ebc15639",
   "metadata": {
    "hidden": true
   },
   "outputs": [],
   "source": [
    "datasetId = [i.dataset_id for i in client.list_remote_datasets() \n",
    "             if i.slug == example_export['item']['source_info']['dataset']['slug']][0]\n",
    "datasetId"
   ]
  },
  {
   "cell_type": "code",
   "execution_count": null,
   "id": "d1abc5fd",
   "metadata": {
    "hidden": true
   },
   "outputs": [],
   "source": [
    "dataset_item = DatasetItem(id=example_export['item']['source_info']['item_id'], \n",
    "                           filename=example_export['item']['name'], \n",
    "                           status=None, archived=False, filesize=None, dataset_id=datasetId, \n",
    "                           dataset_slug=example_export['item']['source_info']['dataset']['slug'], \n",
    "                           seq=0, path=example_export['item']['name'], slots=example_export['item']['slots'], \n",
    "                           current_workflow_id=None, \n",
    "                           current_workflow=f\"{example_export['item']['source_info']['team']['slug']}/\\\n",
    "                           {example_export['item']['source_info']['dataset']['slug']}\"\n",
    "                           )"
   ]
  },
  {
   "cell_type": "markdown",
   "id": "6c7b3e01",
   "metadata": {
    "heading_collapsed": true,
    "hidden": true
   },
   "source": [
    "#### Post the comment"
   ]
  },
  {
   "cell_type": "code",
   "execution_count": null,
   "id": "9ad2acc3",
   "metadata": {
    "hidden": true
   },
   "outputs": [],
   "source": [
    "dataset.post_comment(\n",
    "                        item = dataset_item, #this is your defined DatasetItem (see above)\n",
    "                        text = 'test comment', #this is the text string you want to say in your comment\n",
    "                        x = 15, #the x-coordinate where your comment will appear\n",
    "                        y = 15, #the y-coordinate where your comment will appear\n",
    "                        w = 10, #the width of your comment box\n",
    "                        h = 10  #the height of your comment box\n",
    "                    )"
   ]
  },
  {
   "cell_type": "code",
   "execution_count": null,
   "id": "c55bca09",
   "metadata": {
    "hidden": true
   },
   "outputs": [],
   "source": [
    "# View export to check where relevant annotation box is located and then set the x & y parameters accordingly\n",
    "\n",
    "example_export['annotations']"
   ]
  }
 ],
 "metadata": {
  "kernelspec": {
   "display_name": "Python 3 (ipykernel)",
   "language": "python",
   "name": "python3"
  },
  "language_info": {
   "codemirror_mode": {
    "name": "ipython",
    "version": 3
   },
   "file_extension": ".py",
   "mimetype": "text/x-python",
   "name": "python",
   "nbconvert_exporter": "python",
   "pygments_lexer": "ipython3",
   "version": "3.9.7"
  },
  "toc": {
   "base_numbering": 1,
   "nav_menu": {},
   "number_sections": true,
   "sideBar": true,
   "skip_h1_title": true,
   "title_cell": "Table of Contents",
   "title_sidebar": "Contents",
   "toc_cell": false,
   "toc_position": {
    "height": "calc(100% - 180px)",
    "left": "10px",
    "top": "150px",
    "width": "275px"
   },
   "toc_section_display": true,
   "toc_window_display": true
  },
  "varInspector": {
   "cols": {
    "lenName": 16,
    "lenType": 16,
    "lenVar": 40
   },
   "kernels_config": {
    "python": {
     "delete_cmd_postfix": "",
     "delete_cmd_prefix": "del ",
     "library": "var_list.py",
     "varRefreshCmd": "print(var_dic_list())"
    },
    "r": {
     "delete_cmd_postfix": ") ",
     "delete_cmd_prefix": "rm(",
     "library": "var_list.r",
     "varRefreshCmd": "cat(var_dic_list()) "
    }
   },
   "types_to_exclude": [
    "module",
    "function",
    "builtin_function_or_method",
    "instance",
    "_Feature"
   ],
   "window_display": false
  }
 },
 "nbformat": 4,
 "nbformat_minor": 5
}
